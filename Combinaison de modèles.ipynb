{
 "cells": [
  {
   "cell_type": "markdown",
   "metadata": {},
   "source": [
    "# Tester les serveurs\n",
    "\n",
    "1. Lancer le serveur de détection dans le dossier `detection`:\n",
    "        FLASK_APP=server.py python -m flask run --port 5000\n",
    "2. Lancer le serveur de style dans le dossier `style`:\n",
    "        FLASK_APP=server.py python -m flask run --port 5001"
   ]
  },
  {
   "cell_type": "code",
   "execution_count": null,
   "metadata": {},
   "outputs": [],
   "source": [
    "import requests\n",
    "\n",
    "def classify(path):\n",
    "    response = requests.post(\"http://localhost:5000/\",\n",
    "                            json={\"img_path\": path})\n",
    "    response.raise_for_status()\n",
    "    return response.json()[\"predicted\"]"
   ]
  },
  {
   "cell_type": "code",
   "execution_count": null,
   "metadata": {},
   "outputs": [],
   "source": [
    "def stylicize(path, style=True):\n",
    "    response = requests.post(\n",
    "        \"http://localhost:5001/\",\n",
    "        json={\n",
    "            \"img_path\": path,\n",
    "            \"tone\": style\n",
    "        })\n",
    "    response.raise_for_status()\n",
    "    return response.json()"
   ]
  },
  {
   "cell_type": "code",
   "execution_count": null,
   "metadata": {},
   "outputs": [],
   "source": [
    "def map_prediction(prediction):\n",
    "    # \"happy\" for brontosaurus, \"sad\" for stegosaurus\n",
    "    return \"sad\" if prediction else \"happy\"\n",
    "\n",
    "def classify_and_stylicize(path):\n",
    "    prediction = classify(path)\n",
    "    tone = map_prediction(prediction)\n",
    "    print(stylicize(path, tone))"
   ]
  },
  {
   "cell_type": "code",
   "execution_count": null,
   "metadata": {},
   "outputs": [],
   "source": [
    "images = [\n",
    "    \"/home/mog/work/workshop-scopitone/pics/train/brontosaurus/image_0025.jpg\",\n",
    "    \"/home/mog/work/workshop-scopitone/pics/val/stegosaurus/image_0052.jpg\"\n",
    "]\n",
    "\n",
    "for image in images:\n",
    "    classify_and_stylicize(image)"
   ]
  },
  {
   "cell_type": "markdown",
   "metadata": {},
   "source": [
    "Allez voir les photos dans les chemins indiqués :)"
   ]
  }
 ],
 "metadata": {
  "kernelspec": {
   "display_name": "Python 3",
   "language": "python",
   "name": "python3"
  },
  "language_info": {
   "codemirror_mode": {
    "name": "ipython",
    "version": 3
   },
   "file_extension": ".py",
   "mimetype": "text/x-python",
   "name": "python",
   "nbconvert_exporter": "python",
   "pygments_lexer": "ipython3",
   "version": "3.8.5"
  }
 },
 "nbformat": 4,
 "nbformat_minor": 2
}
